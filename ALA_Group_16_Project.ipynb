{
  "nbformat": 4,
  "nbformat_minor": 0,
  "metadata": {
    "colab": {
      "provenance": [],
      "include_colab_link": true
    },
    "kernelspec": {
      "name": "python3",
      "display_name": "Python 3"
    },
    "language_info": {
      "name": "python"
    }
  },
  "cells": [
    {
      "cell_type": "markdown",
      "metadata": {
        "id": "view-in-github",
        "colab_type": "text"
      },
      "source": [
        "<a href=\"https://colab.research.google.com/github/KushalP47/Image_Compression-SVD-/blob/main/ALA_Group_16_Project.ipynb\" target=\"_parent\"><img src=\"https://colab.research.google.com/assets/colab-badge.svg\" alt=\"Open In Colab\"/></a>"
      ]
    },
    {
      "cell_type": "markdown",
      "source": [
        "# Libraries"
      ],
      "metadata": {
        "id": "7Ksol0TZtzm0"
      }
    },
    {
      "cell_type": "code",
      "source": [
        "import math, time, copy\n",
        "from operator import itemgetter\n",
        "\n",
        "import numpy as np\n",
        "from scipy import misc\n",
        "import matplotlib.pyplot as plt\n",
        "from tabulate import tabulate\n",
        "import matplotlib.image as image\n",
        "\n",
        "first_item = itemgetter(0)"
      ],
      "metadata": {
        "id": "77BFpwoLt8cn"
      },
      "execution_count": null,
      "outputs": []
    },
    {
      "cell_type": "markdown",
      "source": [
        "# Matrix Related Functions\n",
        "\n",
        "\n"
      ],
      "metadata": {
        "id": "mys9taYXz36o"
      }
    },
    {
      "cell_type": "code",
      "source": [
        "def cols(matrix):            #Returns the no. of columns of a matrix\n",
        "\n",
        "\tif type(matrix[0]) != list:\n",
        "\t\treturn 1\n",
        "\treturn len(matrix[0])\n",
        " \n",
        "\n",
        "def rows(matrix):            #Returns the no. of rows of a matrix\n",
        "\t\n",
        "\tif type(matrix) != list:\n",
        "\t\treturn 1\n",
        "\treturn len(matrix)\n",
        " \n",
        "\n",
        "def print_matrix(matrix):     #Function to print a matrix\n",
        "\n",
        "\tfor row in matrix:\n",
        "\t\tfor col in row:\n",
        "\t\t\tprint('%.3f' %col, end=' ')\n",
        "\t\tprint()\n",
        "  \n",
        "\n",
        "def eye(size):                #Returns an identity matrix\n",
        "\t\n",
        "\tmat = list()\n",
        "\tfor r in range(size):\n",
        "\t\trow = list()\n",
        "\t\tfor c in range(size):\n",
        "\t\t\tif r == c:\n",
        "\t\t\t\trow.append(1)\n",
        "\t\t\telse:\n",
        "\t\t\t\trow.append(0)\n",
        "\t\tmat.append(row)\n",
        "\n",
        "\treturn mat\t\n",
        "\n",
        "\n",
        "def transpose(matrix):         #Returns the transpose of a matrix\n",
        "\n",
        "\ttranspose_matrix = list()\n",
        "\tfor i in range(cols(matrix)):\n",
        "\t\trow = list()\n",
        "\n",
        "\t\tfor j in range(rows(matrix)):\n",
        "\t\t\trow.append(matrix[j][i])\n",
        "\n",
        "\t\ttranspose_matrix.append(row)\n",
        "\n",
        "\treturn transpose_matrix\n",
        "\n",
        "\n",
        "def mat_multiply(a, b):        #Function to multiply two matrices\n",
        "\t\n",
        "\tc = [[0 for i in range(cols(b))] for j in range(rows(a))] \n",
        " \n",
        "\tfor i in range(rows(a)):\n",
        "\t\tfor j in range(cols(b)):\n",
        "\t\t\tfor k in range(rows(b)):\n",
        "\t\t\t\tc[i][j] += a[i][k] * b[k][j]\n",
        "\treturn c\n",
        "\n",
        "\n",
        "def mat_splice(matrix, r, c):   #Function which returns a matrix with the first r rows and \n",
        "                                #first c columns of the original matrix\n",
        "\n",
        "\tresult = list()\n",
        "\t\n",
        "\tfor i in range(r):\n",
        "\t\trow = matrix[i]\n",
        "\t\tresult.append(row[:c])\n",
        "  \n",
        "\treturn result\n",
        "\n",
        "\n",
        "def swap(matrix, index_1, index_2):   #Function to swap two rows\n",
        "\t\n",
        "\tx = matrix[index_1]\n",
        "\tmatrix[index_1] = matrix[index_2]\n",
        "\tmatrix[index_2] = x\n",
        "\n",
        "\n",
        "def pivot_index(row):             #Returns the index of pivot in a row\n",
        "\t\n",
        "\tcounter = 0\n",
        "\tfor element in row:\n",
        "\t\tif element != float(0):\n",
        "\t\t\treturn counter\n",
        "\t\tcounter += 1\n",
        "\n",
        "\treturn counter\n",
        "\n",
        "\n",
        "def pivot_value(row):             #Returns the value of pivot in a row\n",
        "\n",
        "\tfor element in row:\n",
        "\t\tif element > math.exp(-8):\n",
        "\t\t\treturn element\n",
        "\t\t\n",
        "\treturn 0\n",
        "\n",
        "\n",
        "def clip(matrix):                #Function to clip each element to the range float[0, 1]\n",
        "\t\n",
        "\n",
        "\tfor row in range(rows(matrix)):\n",
        "\t\tfor col in range(cols(matrix)):\n",
        "\t\t\tfor j in range(3):\n",
        "\t\t\t\tif matrix[row][col][j] > 1:\n",
        "\t\t\t\t\tmatrix[row][col][j] = 1\n",
        "\t\t\t\tif matrix[row][col][j] < 0:\n",
        "\t\t\t\t\tmatrix[row][col][j] = 0\n",
        "\n",
        "  \n",
        "\n",
        "\n"
      ],
      "metadata": {
        "id": "JfWUG61x0KEe"
      },
      "execution_count": null,
      "outputs": []
    },
    {
      "cell_type": "markdown",
      "source": [
        "# QR Decompostion\n"
      ],
      "metadata": {
        "id": "y78o3LxL2lGX"
      }
    },
    {
      "cell_type": "code",
      "source": [
        "def qr(matrix):                 #Funciton which returns the QR Decomposition of a matrix\n",
        "\t\n",
        "\n",
        "\toriginal = copy.deepcopy(matrix)\n",
        "\tQ = list()\n",
        "\n",
        "\tcounter = 0\n",
        "\tfor i in range(cols(matrix)):\n",
        "\t\tu = list()\n",
        "\t\tu.append(matrix[i])\n",
        "\n",
        "\t\t# Making the orthogonal basis by grahm schmidt\n",
        "\t\tfor j in range(0, counter):\n",
        "\t\t\tv_i = list()\n",
        "\t\t\tv_i.append(Q[j])\n",
        "\t\t\tv_i_transpose = transpose(v_i)\n",
        "\t\t\tv_dot_u = mat_multiply(u, v_i_transpose)\n",
        "\t\t\tfor i in range(cols(u)):\n",
        "\t\t\t\tu[0][i] = u[0][i] - v_i[0][i] * float(v_dot_u[0][0])\n",
        "\n",
        "\t\tnormalised_u = list()\n",
        "\t\tu_dot_u = mat_multiply(u, transpose(u))\n",
        "\t\tfor x in u[0]:\n",
        "\t\t\tif float(u_dot_u[0][0]) < math.exp(-8):\n",
        "\t\t\t\tx = 0\n",
        "\t\t\telse:\n",
        "\t\t\t\tx = x / math.sqrt(float(u_dot_u[0][0]))\n",
        "\t\t\tnormalised_u.append(x)\n",
        "\n",
        "\t\tQ.append(normalised_u)\n",
        "\t\tcounter += 1\n",
        "\n",
        "\t# Finding R by multiplying Q-Transpose With original matrix\n",
        "\tR = mat_multiply(Q, original)\n",
        "\tQ = transpose(Q)\n",
        "\n",
        "\treturn (Q, R)\n",
        "\t\t\n",
        "def is_diagonal(matrix):    #Funciton to check if the matrix is diagonal\n",
        "\t\n",
        "\tfor r in range(rows(matrix)):\n",
        "\t\tfor c in range(cols(matrix)):\n",
        "\t\t\tif r != c:\n",
        "\t\t\t\tif abs(matrix[r][c]) > math.exp(-8):\n",
        "\t\t\t\t\treturn False\n",
        "\treturn True\n",
        "\n",
        "\n",
        "def qr_eig(matrix):         #Funciton which finds the eigenvalues and eigenvectors of a matrix \n",
        "\t\t                        #using QR decomposition\n",
        "\tcounter = 0\n",
        "\teig_vectors = eye(cols(matrix))\n",
        "\t\n",
        "\twhile not is_diagonal(matrix):\n",
        "\t\tq, r = qr(matrix)\n",
        "\t\teig_vectors = mat_multiply(eig_vectors, q)\n",
        "\t\tmatrix = mat_multiply(r, q)\n",
        "\t\tcounter += 1\n",
        "\n",
        "\treturn(eig_vectors, matrix, counter)\n",
        " \n"
      ],
      "metadata": {
        "id": "HjwSmGBX2rew"
      },
      "execution_count": null,
      "outputs": []
    },
    {
      "cell_type": "markdown",
      "source": [
        "# Singular Value Decomposition"
      ],
      "metadata": {
        "id": "c40__FBc3kXl"
      }
    },
    {
      "cell_type": "code",
      "source": [
        "def svd(matrix, approach):         #Funciton to perform svd on a matrix\n",
        "\t\n",
        "\t\n",
        "\t# Getting the eigenvalues and vectors of transpose(A) * A for V and Sigma\n",
        "\ta = mat_multiply(transpose(matrix), matrix)\n",
        "\tV, sigma, iterations = qr_eig(a)\n",
        "\n",
        "\t# Sorting singular values and the colums of V accordingly\n",
        "\tV  = transpose(V)\n",
        "\n",
        "\tsingular_values = list()\n",
        "\tsorted_V = list()\n",
        "\t\n",
        "\tr = 0\n",
        "\tfor i in range(rows(sigma)):\n",
        "\t\tsingular_values.append([(sigma[i][i]), i])\n",
        "\t\tif sigma[i][i] > math.exp(-8):\n",
        "\t\t\tr += 1\n",
        "\n",
        "\tsingular_values.sort(key = first_item, reverse=True)\n",
        "\n",
        "\tsigma_r = eye(r)\n",
        "\tsigma_r_inv = eye(r) \n",
        "\n",
        "\t# Constructing the sorted U and sigma matrices\n",
        "\ti, j = 0, 0\n",
        "\tfor value in singular_values:\n",
        "\t\tif value[0] > math.exp(-8):\n",
        "\t\t\tsorted_V.append(V[value[1]])\n",
        "\t\t\tsigma_r[j][j] = value[0] ** (1/2)\n",
        "\t\t\tsigma_r_inv[j][j] = 1 / (value[0] ** (1/2))\n",
        "\t\t\tj += 1\n",
        "\t\ti += 1\n",
        "\n",
        "\n",
        "\t# Constructing U by multiplying V and sigma inverse\n",
        "\tsorted_U = mat_multiply(mat_multiply(matrix, transpose(sorted_V)), sigma_r_inv)\n",
        "\t\n",
        "\treturn (sorted_U, sigma_r, sorted_V, r, iterations) "
      ],
      "metadata": {
        "id": "pTuHwUo43rOa"
      },
      "execution_count": 18,
      "outputs": []
    },
    {
      "cell_type": "markdown",
      "source": [
        "# Main\n"
      ],
      "metadata": {
        "id": "cRe4YF7lHk-M"
      }
    },
    {
      "cell_type": "code",
      "source": [
        "def reconstruct(u1, s1, vt1, u2, s2, vt2, u3, s3, vt3, rank):\n",
        "    '''\n",
        "        Function to reconstruct the final matrix\n",
        "    '''\n",
        "    reconst_r = mat_multiply(\n",
        "        mat_multiply(mat_splice(u1, rows(u1), rank), mat_splice(s1, rank, rank)), \n",
        "        mat_splice(vt1, rank, cols(vt1)))\n",
        "    reconst_g = mat_multiply(\n",
        "        mat_multiply(mat_splice(u2, rows(u2), rank), mat_splice(s2, rank, rank)), \n",
        "        mat_splice(vt2, rank, cols(vt2)))\n",
        "    reconst_b = mat_multiply(\n",
        "        mat_multiply(mat_splice(u3, rows(u3), rank), mat_splice(s3, rank, rank)), \n",
        "        mat_splice(vt3, rank, cols(vt3)))\n",
        "\n",
        "    final = list()\n",
        "    data_type = 'float'\n",
        "\n",
        "    # Combining R, G and B matrixes to form a 3-D matrix\n",
        "    for i in range(rows(reconst_r)):\n",
        "        row = list()\n",
        "        for j in range(cols(reconst_r)):\n",
        "            pixel = list()\n",
        "            pixel.append((reconst_r[i][j]))\n",
        "            pixel.append((reconst_g[i][j]))\n",
        "            pixel.append((reconst_b[i][j]))\n",
        "            if int(reconst_b[i][j]) > 1 and data_type != 'int':\n",
        "                data_type = 'int'\n",
        "            row.append(pixel)\n",
        "        final.append(row)\n",
        "\n",
        "    # Clipping input data to the valid range for imshow with RGB data ([0..1] for floats or [0..255] for integers\n",
        "    if data_type == 'int':\n",
        "        to_int(final)\n",
        "    else:\n",
        "        clip(final)\n",
        "\n",
        "    return final\n",
        "\n",
        "\n",
        "\n",
        "\n",
        "# Reading the image into a 3-d matrix\n",
        "mat = image.imread('temp.png')\n",
        "\n",
        "print(mat.shape)\n",
        "# Splitting the r - g - b components\n",
        "r = mat[:, :, 0]\n",
        "g = mat[:, :, 1]\n",
        "b = mat[:, :, 2]\n",
        "\n",
        "# print(r.shape())\n",
        "# Converting the ndarrays to python list\n",
        "r = np.ndarray.tolist(r)\n",
        "g = np.ndarray.tolist(g)\n",
        "b = np.ndarray.tolist(b)\n",
        "\n",
        "# print(len(r))\n",
        "# Performing SVD on r, g, b matrices using QR\n",
        "u_1_qr, s_1_qr, vt_1_qr, r_1_qr, iteration_1_qr = svd(r, 'qr')\n",
        "\n",
        "u_2_qr, s_2_qr, vt_2_qr, r_2_qr, iteration_2_qr = svd(g, 'qr')\n",
        "\n",
        "u_3_qr, s_3_qr, vt_3_qr, r_3_qr, iteration_3_qr = svd(b, 'qr')\n",
        "\n",
        "\n",
        "final_qr = reconstruct(u_1_qr, s_1_qr, vt_1_qr, \n",
        "                       u_2_qr, s_2_qr, vt_2_qr, \n",
        "                       u_3_qr, s_3_qr, vt_3_qr, 11)\n",
        "x = []\n",
        "y = []\n",
        "for i in range(1,5):\n",
        "  y.append(i)\n",
        "for i in range(1,5):\n",
        "  x.append(reconstruct(u_1_qr, s_1_qr, vt_1_qr, \n",
        "                       u_2_qr, s_2_qr, vt_2_qr, \n",
        "                       u_3_qr, s_3_qr, vt_3_qr, i))\n",
        "fig, a = plt.subplots(2,2)\n",
        "plt.rc_context({'axes.edgecolor':'white', 'xtick.color':'white', \n",
        "                'ytick.color':'white', 'figure.figsize':[18, 12]})\n",
        "\n",
        "a[1][0].imshow(mat)\n",
        "a[1][0].set_title('Original image', color='black', fontsize= 25)\n",
        "\n",
        "a[0][0].imshow(final_qr)\n",
        "a[0][0].set_title('Compressed image', color='black', fontsize= 25)\n",
        "\n",
        "\n",
        "\n",
        "fig.tight_layout(pad=5)\n",
        "plt.show()\n",
        "\n"
      ],
      "metadata": {
        "colab": {
          "base_uri": "https://localhost:8080/",
          "height": 557
        },
        "id": "RqNElj9OHzzx",
        "outputId": "9b7f114c-3b7f-4e6d-8cdc-616fbb2c6630"
      },
      "execution_count": 40,
      "outputs": [
        {
          "output_type": "stream",
          "name": "stdout",
          "text": [
            "(27, 27, 3)\n"
          ]
        },
        {
          "output_type": "display_data",
          "data": {
            "text/plain": [
              "<Figure size 1296x864 with 4 Axes>"
            ],
            "image/png": "[encoded data removed]"
          },
          "metadata": {
            "needs_background": "dark"
          }
        }
      ]
    }
  ]
}